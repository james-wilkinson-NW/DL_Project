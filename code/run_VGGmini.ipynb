{
 "cells": [
  {
   "cell_type": "code",
   "execution_count": null,
   "metadata": {
    "id": "_Xh8t9Nu4vB1",
    "pycharm": {
     "name": "#%%\n",
     "is_executing": true
    }
   },
   "outputs": [],
   "source": [
    "try:\n",
    "    from google.colab import drive\n",
    "    drive.mount('/content/drive', force_remount=True)\n",
    "\n",
    "    import os\n",
    "    import sys\n",
    "    os.chdir('/content/drive/MyDrive/DL_Project_GD/')\n",
    "    sys.path.append('/content/drive/MyDrive/DL_Project_GD/code/')\n",
    "\n",
    "    #%% [code]\n",
    "    ! pip install -qqq \"torchvision\" \"torch>=1.6, <1.9\" \"torchmetrics>=0.3\" \"ipython[notebook]\" \"pytorch-lightning>=1.3\" \"torchtext\"\n",
    "    ! pip install -qqq cloud-tpu-client==0.10 https://storage.googleapis.com/tpu-pytorch/wheels/torch_xla-1.8-cp37-cp37m-linux_x86_64.whl\n",
    "\n",
    "    ## Install dependencies\n",
    "    ! pip install -qqq wget\n",
    "    ! apt-get -qqq install sox libsndfile1 ffmpeg\n",
    "    ! pip install -qqq unidecode\n",
    "    ! pip install -qqq matplotlib>=3.3.2\n",
    "\n",
    "    ## Install NeMo\n",
    "    BRANCH = 'r1.6.1'\n",
    "    ! python -m pip install -qqq git+https://github.com/NVIDIA/NeMo.git@$BRANCH#egg=nemo_toolkit[all]\n",
    "\n",
    "    ! mkdir configs\n",
    "    ! wget -P configs/ https://raw.githubusercontent.com/NVIDIA/NeMo/$BRANCH/examples/asr/conf/config.yaml\n",
    "\n",
    "    datapath = '../datset/raw/'\n",
    "    rootpath = './'\n",
    "    print(\"Running with Colab setup.\")\n",
    "    tpu_cores = 8\n",
    "    gpu_cores = None\n",
    "except(ModuleNotFoundError):\n",
    "    print('Initialising non-colab set-up...')\n",
    "    tpu_cores=None\n",
    "    gpu_cores=None\n",
    "    datapath = '../dataset/raw/'\n",
    "    rootpath = './'\n",
    "\n",
    "from VGGmini import VGGmini\n",
    "from dataloader import VoxDataloader\n",
    "import runner\n",
    "import os\n",
    "print(\"cwd: {}\".format(os.getcwd()))\n",
    "print(\"datapath: {}\".format(datapath))\n",
    "print('done.')"
   ]
  },
  {
   "cell_type": "code",
   "execution_count": 23,
   "metadata": {
    "pycharm": {
     "name": "#%%\n"
    },
    "id": "v6Z3J7kj9eSV"
   },
   "outputs": [],
   "source": [
    "config = {\n",
    "            # learning params\n",
    "            'lr': 1e-3,\n",
    "            'batch_size': 64,\n",
    "            'early_stopping': True,\n",
    "            'optimizer': 'Adam',\n",
    "            'max_epochs': 20,\n",
    "            'early_stopping': True,\n",
    "            'patience': 3, # tolerance for early stopping\n",
    "            'momentum': 0.,\n",
    "            'lr_decay': 0.,\n",
    "\n",
    "            # model\n",
    "            'fftmethod': 'librosa.stft', # choose librosa.stft, signal.stft, or librosa.mfcc\n",
    "            'pooling' : 'average', # 'average' or 'max'. will not have effect if not using VGGpool\n",
    "\n",
    "            #, regularization\n",
    "            'dropout': 0.0,\n",
    "            'L2': 0.0,\n",
    "            'batch_norm': True,\n",
    "            'gradient_clipping': 0.0,\n",
    "}"
   ]
  },
  {
   "cell_type": "code",
   "execution_count": 24,
   "metadata": {
    "pycharm": {
     "name": "#%%\n"
    },
    "id": "7uLvWzLZ9eSW"
   },
   "outputs": [
    {
     "name": "stdout",
     "output_type": "stream",
     "text": [
      "LOGNAME: spctlibrosa.stft_optAdam_lr0.001_reg0.0_drop0.0_bnTrue_gc0.0_mom0.0_dec0.0_poolingaverage\n",
      "N classes: 4\n"
     ]
    },
    {
     "ename": "TypeError",
     "evalue": "__init__() got an unexpected keyword argument 'gradient_clip_val'",
     "output_type": "error",
     "traceback": [
      "\u001B[0;31m---------------------------------------------------------------------------\u001B[0m",
      "\u001B[0;31mTypeError\u001B[0m                                 Traceback (most recent call last)",
      "\u001B[0;32m/var/folders/gq/c66p8yrd3bd1sr7svmy6k91h0000gn/T/ipykernel_7194/498192680.py\u001B[0m in \u001B[0;36m<module>\u001B[0;34m\u001B[0m\n\u001B[1;32m      1\u001B[0m \u001B[0;32mfor\u001B[0m \u001B[0mmethod\u001B[0m \u001B[0;32min\u001B[0m \u001B[0;34m[\u001B[0m\u001B[0;34m'librosa.stft'\u001B[0m\u001B[0;34m,\u001B[0m \u001B[0;34m'librosa.mel'\u001B[0m\u001B[0;34m,\u001B[0m \u001B[0;34m'librosa.mfcc'\u001B[0m\u001B[0;34m,\u001B[0m\u001B[0;34m'pydct.sdct'\u001B[0m\u001B[0;34m]\u001B[0m\u001B[0;34m:\u001B[0m\u001B[0;34m\u001B[0m\u001B[0;34m\u001B[0m\u001B[0m\n\u001B[1;32m      2\u001B[0m   \u001B[0mconfig\u001B[0m\u001B[0;34m[\u001B[0m\u001B[0;34m'fftmethod'\u001B[0m\u001B[0;34m]\u001B[0m \u001B[0;34m=\u001B[0m \u001B[0mmethod\u001B[0m\u001B[0;34m\u001B[0m\u001B[0;34m\u001B[0m\u001B[0m\n\u001B[0;32m----> 3\u001B[0;31m   \u001B[0mrunner\u001B[0m\u001B[0;34m.\u001B[0m\u001B[0mrun\u001B[0m\u001B[0;34m(\u001B[0m\u001B[0mconfig\u001B[0m\u001B[0;34m,\u001B[0m \u001B[0mdatapath\u001B[0m\u001B[0;34m,\u001B[0m \u001B[0mVoxDataloader\u001B[0m\u001B[0;34m,\u001B[0m \u001B[0mVGGmini\u001B[0m\u001B[0;34m,\u001B[0m \u001B[0;34m'./VGGmini/'\u001B[0m\u001B[0;34m,\u001B[0m \u001B[0mtpu_cores\u001B[0m\u001B[0;34m=\u001B[0m\u001B[0mtpu_cores\u001B[0m\u001B[0;34m,\u001B[0m \u001B[0mgpu_cores\u001B[0m\u001B[0;34m=\u001B[0m\u001B[0mgpu_cores\u001B[0m\u001B[0;34m,\u001B[0m \u001B[0mphase_map_file\u001B[0m\u001B[0;34m=\u001B[0m\u001B[0;34m'phase_map.csv'\u001B[0m\u001B[0;34m)\u001B[0m\u001B[0;34m\u001B[0m\u001B[0;34m\u001B[0m\u001B[0m\n\u001B[0m",
      "\u001B[0;32m~/Documents/python programs/DL_Project/code/runner.py\u001B[0m in \u001B[0;36mrun\u001B[0;34m(config, datapath, Dataloader, Model, logpath, tpu_cores, gpu_cores, phase_map_file)\u001B[0m\n\u001B[1;32m     39\u001B[0m     trainer = pl.Trainer(logger=tb_logger, max_epochs=config['max_epochs'], tpu_cores=tpu_cores, gpus=gpu_cores,\n\u001B[1;32m     40\u001B[0m                          \u001B[0mlog_every_n_steps\u001B[0m\u001B[0;34m=\u001B[0m\u001B[0;36m10\u001B[0m\u001B[0;34m,\u001B[0m\u001B[0;34m\u001B[0m\u001B[0;34m\u001B[0m\u001B[0m\n\u001B[0;32m---> 41\u001B[0;31m                          callbacks=[EarlyStopping(\n\u001B[0m\u001B[1;32m     42\u001B[0m                              \u001B[0mmonitor\u001B[0m\u001B[0;34m=\u001B[0m\u001B[0;34m'val_loss'\u001B[0m\u001B[0;34m,\u001B[0m\u001B[0;34m\u001B[0m\u001B[0;34m\u001B[0m\u001B[0m\n\u001B[1;32m     43\u001B[0m                              patience=config['patience'])] if config['early_stopping'] else None)\n",
      "\u001B[0;31mTypeError\u001B[0m: __init__() got an unexpected keyword argument 'gradient_clip_val'"
     ]
    }
   ],
   "source": [
    "for method in ['librosa.stft', 'librosa.mel', 'librosa.mfcc','pydct.sdct']:\n",
    "  config['fftmethod'] = method\n",
    "  runner.run(config, datapath, VoxDataloader, VGGmini, './VGGmini/', tpu_cores=tpu_cores, gpu_cores=gpu_cores, phase_map_file='phase_map.csv')\n"
   ]
  }
 ],
 "metadata": {
  "colab": {
   "collapsed_sections": [],
   "machine_shape": "hm",
   "name": "run_VGGnet.ipynb",
   "private_outputs": true,
   "provenance": []
  },
  "kernelspec": {
   "display_name": "Python 3 (ipykernel)",
   "language": "python",
   "name": "python3"
  },
  "language_info": {
   "codemirror_mode": {
    "name": "ipython",
    "version": 3
   },
   "file_extension": ".py",
   "mimetype": "text/x-python",
   "name": "python",
   "nbconvert_exporter": "python",
   "pygments_lexer": "ipython3",
   "version": "3.9.7"
  },
  "accelerator": "TPU"
 },
 "nbformat": 4,
 "nbformat_minor": 0
}