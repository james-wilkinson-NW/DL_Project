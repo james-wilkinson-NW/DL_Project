{
 "nbformat": 4,
 "nbformat_minor": 0,
 "metadata": {
  "colab": {
   "name": "preprocess.ipynb",
   "provenance": [],
   "collapsed_sections": [],
   "machine_shape": "hm",
   "private_outputs": true
  },
  "kernelspec": {
   "name": "python3",
   "display_name": "Python 3"
  },
  "language_info": {
   "name": "python"
  }
 },
 "cells": [
  {
   "cell_type": "code",
   "execution_count": null,
   "metadata": {
    "id": "cgBVjIgmcba2"
   },
   "outputs": [],
   "source": [
    "print(\"DO NOT RUN WITH TPU/GPU unless necessary\")"
   ]
  },
  {
   "cell_type": "code",
   "source": [
    "! pip install pydub"
   ],
   "metadata": {
    "id": "y5VDnwz9o3uh"
   },
   "execution_count": null,
   "outputs": []
  },
  {
   "cell_type": "code",
   "execution_count": null,
   "outputs": [],
   "source": [
    "# initialise setups for running inside and outside of colab\n",
    "# requires directory structure inside gdrive matching below\n",
    "\n",
    "try:\n",
    "    from google.colab import drive\n",
    "    drive.mount('/content/drive', force_remount=True)\n",
    "\n",
    "    import os\n",
    "    import sys\n",
    "    os.chdir('/content/drive/MyDrive/DL_Project_GD/')\n",
    "    sys.path.append('/content/drive/MyDrive/DL_Project_GD/code/')\n",
    "    m4apath = './SyncData/raw/'\n",
    "    sptpath = './SyncData/processed/'\n",
    "    print(\"Running with Colab setup.\")\n",
    "except(ModuleNotFoundError):\n",
    "    print(\"Running outside of Colab.\")\n",
    "    # first run preprocessing if needed\n",
    "    m4apath = '../dataset/raw/'\n",
    "    sptpath = '../dataset/processed/'\n",
    "\n",
    "import os\n",
    "print(\"Current working directory: {}\".format(os.getcwd()))\n",
    "import preprocessing\n",
    "import warnings\n",
    "warnings.filterwarnings('ignore') # ignore the warnings on m4a -> spectrogram conversion\n",
    "import pandas as pd\n",
    "print(\"Current working directory: {}\".format(os.getcwd()))"
   ],
   "metadata": {
    "pycharm": {
     "name": "#%%\n"
    },
    "id": "_Xh8t9Nu4vB1"
   }
  },
  {
   "cell_type": "code",
   "source": [
    "#import os\n",
    "#os.chdir('/content/drive/MyDrive/DL_Project_GD/SyncData/wav/')\n",
    "#ids = os.listdir('.')\n",
    "#print(ids)\n",
    "#print(\"IDs: {}\".format(len(ids)))\n",
    "#counts = 0\n",
    "#for id in tqdm(ids):\n",
    "#  contexts = os.listdir(os.path.join('.', id))\n",
    "#  for ctx in contexts:\n",
    "#    files = os.listdir(os.path.join('.', id, ctx))\n",
    "#    counts += len(files)\n",
    "#print(counts)"
   ],
   "metadata": {
    "id": "ZJAOoyDJy7zy"
   },
   "execution_count": null,
   "outputs": []
  },
  {
   "cell_type": "code",
   "execution_count": null,
   "outputs": [],
   "source": [
    "#filenames1 = pd.read_csv('./code/Index_0.csv')['0'].to_list()\n",
    "#preprocessing.dataset_to_pt(m4apath, sptpath, filenames=filenames)"
   ],
   "metadata": {
    "pycharm": {
     "name": "#%%\n"
    },
    "id": "WUp6d_gM4vB2"
   }
  },
  {
   "cell_type": "code",
   "execution_count": null,
   "outputs": [],
   "source": [
    "preprocessing.gen_phases(m4apath, train_split=0.7, valid_split=0.15, test_split=0.15)"
   ],
   "metadata": {
    "pycharm": {
     "name": "#%%\n"
    },
    "id": "2DVslfNX3xO_"
   }
  },
  {
   "cell_type": "code",
   "source": [
    ""
   ],
   "metadata": {
    "id": "kSTRk6xW9fWN"
   },
   "execution_count": null,
   "outputs": []
  }
 ]
}