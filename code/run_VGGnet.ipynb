{
 "nbformat": 4,
 "nbformat_minor": 0,
 "metadata": {
  "colab": {
   "name": "VGGnetTPU",
   "provenance": [],
   "collapsed_sections": [],
   "machine_shape": "hm",
   "private_outputs": true
  },
  "kernelspec": {
   "name": "python3",
   "display_name": "Python 3"
  },
  "language_info": {
   "name": "python"
  }
 },
 "cells": [
  {
   "cell_type": "code",
   "execution_count": 4,
   "outputs": [
    {
     "name": "stdout",
     "output_type": "stream",
     "text": [
      "Initialising non-colab set-up...\n"
     ]
    }
   ],
   "source": [
    "try:\n",
    "    import colab_requirements_install\n",
    "    from google.colab import drive\n",
    "    drive.mount('/content/drive')\n",
    "\n",
    "    import os\n",
    "    os.chdir('/content/drive/MyDrive/DL_Project/')\n",
    "    tpu_cores = 8\n",
    "    gpu_cores = None\n",
    "    datapath = '???? TBD'\n",
    "    print(\"Initilaising in colab set-up...\")\n",
    "except(ModuleNotFoundError):\n",
    "    print('Initialising non-colab set-up...')\n",
    "    tpu_cores=None\n",
    "    gpu_cores=None\n",
    "    datapath = '../dataset/'\n",
    "\n",
    "from VGGnet import VGGnet\n",
    "from dataloader import *\n",
    "import pytorch_lightning.loggers as pl_loggers\n",
    "import pytorch_lightning as pl"
   ],
   "metadata": {
    "pycharm": {
     "name": "#%%\n"
    },
    "id": "_Xh8t9Nu4vB1"
   }
  },
  {
   "cell_type": "code",
   "execution_count": 5,
   "outputs": [],
   "source": [
    "config = {\n",
    "            # learning params\n",
    "            'lr': 1e-3,\n",
    "            'batch_size': 32,\n",
    "            'early_stopping': True,\n",
    "            'optimizer': 'SGD',\n",
    "            'max_epochs': 100,\n",
    "\n",
    "            #, regularization\n",
    "            'dropout': 0.5,\n",
    "            'L2': 0.1,\n",
    "            'batch_norm': True,\n",
    "            'gradient_clipping': 0.5,\n",
    "\n",
    "}"
   ],
   "metadata": {
    "collapsed": false,
    "pycharm": {
     "name": "#%%\n"
    }
   }
  },
  {
   "cell_type": "code",
   "source": [
    "logname = \"opt{}_lr{}_reg{}_drop{}_bn{}_gc{}\".format([config[s] for s in ['optimizer','lr','L2','dropout','batch_norm','gradient_clipping']])\n",
    "\n",
    "dataloader = VoxDataloader(datapath, batch_size=config['batch_size'])\n",
    "model = VGGnet(num_classes=dataloader.num_classes(), lr=config['lr'], batch_norm=config['batch_norm'])\n",
    "tb_logger = pl_loggers.TensorBoardLogger('./VGGlogs/', name=logname)\n",
    "trainer = pl.Trainer(logger=tb_logger, max_epochs=config['max_epochs'], tpu_cores=tpu_cores, gpus=gpu_cores, log_every_n_steps=20)\n",
    "trainer.fit(model, dataloader)\n"
   ],
   "metadata": {
    "id": "twpcn0gSltN2",
    "pycharm": {
     "name": "#%%\n"
    }
   },
   "execution_count": null,
   "outputs": []
  }
 ]
}