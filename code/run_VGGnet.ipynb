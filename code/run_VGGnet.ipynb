{
 "nbformat": 4,
 "nbformat_minor": 0,
 "metadata": {
  "colab": {
   "name": "VGGnetTPU",
   "provenance": [],
   "collapsed_sections": [],
   "machine_shape": "hm",
   "private_outputs": true
  },
  "kernelspec": {
   "name": "python3",
   "display_name": "Python 3"
  },
  "language_info": {
   "name": "python"
  }
 },
 "cells": [
  {
   "cell_type": "code",
   "execution_count": 3,
   "outputs": [
    {
     "name": "stdout",
     "output_type": "stream",
     "text": [
      "Initialising non-colab set-up...\n"
     ]
    }
   ],
   "source": [
    "try:\n",
    "    import colab_requirements_install\n",
    "    from google.colab import drive\n",
    "    drive.mount('/content/drive')\n",
    "\n",
    "    import os\n",
    "    os.chdir('/content/drive/MyDrive/DL_Project/')\n",
    "    tpu_cores = 8\n",
    "    gpu_cores = None\n",
    "    datapath = '???? TBD'\n",
    "    print(\"Initilaising in colab set-up...\")\n",
    "except(ModuleNotFoundError):\n",
    "    print('Initialising non-colab set-up...')\n",
    "    tpu_cores=None\n",
    "    gpu_cores=None\n",
    "    datapath = '../dataset/'\n",
    "\n",
    "from VGGnet import VGGnet\n",
    "from dataloader import *\n",
    "import pytorch_lightning.loggers as pl_loggers\n",
    "import pytorch_lightning as pl"
   ],
   "metadata": {
    "pycharm": {
     "name": "#%%\n"
    },
    "id": "_Xh8t9Nu4vB1"
   }
  },
  {
   "cell_type": "code",
   "source": [
    "dataloader = VoxDataloader(datapath, batch_size=32)\n",
    "model = VGGnet(num_classes=dataloader.num_classes(), lr=1e-3, batch_norm=True)\n",
    "tb_logger = pl_loggers.TensorBoardLogger('./Logs/', name=\"BatchNorm_1e-3\")\n",
    "trainer = pl.Trainer(logger=tb_logger, max_epochs=100, tpu_cores=tpu_cores, gpus=gpu_cores, log_every_n_steps=20)\n",
    "trainer.fit(model, dataloader)\n"
   ],
   "metadata": {
    "id": "twpcn0gSltN2",
    "pycharm": {
     "name": "#%%\n"
    }
   },
   "execution_count": null,
   "outputs": []
  }
 ]
}