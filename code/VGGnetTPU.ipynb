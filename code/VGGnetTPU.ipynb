{
 "nbformat": 4,
 "nbformat_minor": 0,
 "metadata": {
  "colab": {
   "name": "VGGnetTPU",
   "provenance": [],
   "collapsed_sections": [],
   "machine_shape": "hm",
   "private_outputs": true
  },
  "kernelspec": {
   "name": "python3",
   "display_name": "Python 3"
  },
  "language_info": {
   "name": "python"
  }
 },
 "cells": [
  {
   "cell_type": "markdown",
   "source": [
    "Needs 3 text files with data, dataset.py, dataloader.py, and models (feedforward.py)"
   ],
   "metadata": {
    "id": "SkAjPPuv8JVS"
   }
  },
  {
   "cell_type": "code",
   "execution_count": null,
   "metadata": {
    "id": "cgBVjIgmcba2"
   },
   "outputs": [],
   "source": [
    "! pip install --quiet \"torchvision\" \"torch>=1.6, <1.9\" \"torchmetrics>=0.3\" \"ipython[notebook]\" \"pytorch-lightning>=1.3\" \"torchtext\"\n",
    "! pip install cloud-tpu-client==0.10 https://storage.googleapis.com/tpu-pytorch/wheels/torch_xla-1.8-cp37-cp37m-linux_x86_64.whl\n",
    "\n",
    "## Install dependencies\n",
    "!pip install wget\n",
    "!apt-get install sox libsndfile1 ffmpeg\n",
    "!pip install unidecode\n",
    "!pip install matplotlib>=3.3.2\n",
    "\n",
    "## Install NeMo\n",
    "BRANCH = 'r1.6.1'\n",
    "!python -m pip install git+https://github.com/NVIDIA/NeMo.git@$BRANCH#egg=nemo_toolkit[all]\n",
    "\n",
    "!mkdir configs\n",
    "!wget -P configs/ https://raw.githubusercontent.com/NVIDIA/NeMo/$BRANCH/examples/asr/conf/config.yaml"
   ]
  },
  {
   "cell_type": "code",
   "execution_count": null,
   "outputs": [],
   "source": [
    "try:\n",
    "    print(\"Initilaising in colab set-up...\")\n",
    "    from google.colab import drive\n",
    "    drive.mount('/content/drive')\n",
    "\n",
    "    import os\n",
    "    os.chdir('/content/drive/MyDrive/DL_Project/')\n",
    "    tpu_cores = 8\n",
    "    gpu_cores = None\n",
    "except(ModuleNotFoundError):\n",
    "    print('Initialising non-colab set-up...')\n",
    "    tpu_cores=None\n",
    "    gpu_cores=None"
   ],
   "metadata": {
    "pycharm": {
     "name": "#%%\n"
    },
    "id": "_Xh8t9Nu4vB1"
   }
  },
  {
   "cell_type": "code",
   "source": [
    "import VGGnet\n",
    "from dataloader import *\n",
    "import pytorch_lightning.loggers as pl_loggers\n",
    "import pytorch_lightning as pl"
   ],
   "metadata": {
    "id": "IPIRgRFrcgpB"
   },
   "execution_count": null,
   "outputs": []
  },
  {
   "cell_type": "code",
   "source": [
    "train = VoxDataset('./minidata/spectrograms/', 'train')\n",
    "valid = VoxDataset('./minidata/spectrograms/', 'validation')\n",
    "test = VoxDataset('./minidata/spectrograms/', 'test')\n",
    "\n",
    "dataloader = VoxDataloader(train, valid, test, batch_size=32)\n",
    "\n",
    "num_classes = len(train.dataset['id_int'].unique())\n",
    "\n",
    "print(len(train))\n",
    "print(len(valid))\n",
    "print(len(test))"
   ],
   "metadata": {
    "id": "zdKSte8Slcbz"
   },
   "execution_count": null,
   "outputs": []
  },
  {
   "cell_type": "code",
   "source": [
    "model = VGGnet.VGGnet(num_classes=num_classes, lr=1e-3, batch_norm=True)\n",
    "tb_logger = pl_loggers.TensorBoardLogger('./Logs/', name=\"BatchNorm_1e-3\")\n",
    "trainer = pl.Trainer(logger=tb_logger, max_epochs=100, tpu_cores=tpu_cores, gpus=gpu_cores, log_every_n_steps=20)\n",
    "trainer.fit(model, dataloader)"
   ],
   "metadata": {
    "id": "twpcn0gSltN2"
   },
   "execution_count": null,
   "outputs": []
  },
  {
   "cell_type": "code",
   "source": [
    "%load_ext tensorboard\n",
    "%tensorboard --logdir ./Logs2/\n"
   ],
   "metadata": {
    "id": "2a6H8t__bScM"
   },
   "execution_count": null,
   "outputs": []
  }
 ]
}